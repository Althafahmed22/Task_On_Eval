{
 "cells": [
  {
   "cell_type": "code",
   "execution_count": 132,
   "id": "ffa07310-1315-4da5-a68a-20a26e537e99",
   "metadata": {},
   "outputs": [
    {
     "data": {
      "text/plain": [
       "10"
      ]
     },
     "execution_count": 132,
     "metadata": {},
     "output_type": "execute_result"
    }
   ],
   "source": [
    "User_input=\"a + b * c\"\n",
    "variables = {\"a\": 4, \"b\": 2, \"c\": 3}\n",
    "def Calculation(User_input,variables):\n",
    "    result = eval(User_input,variables)\n",
    "    return result   \n",
    "Calculation(User_input,variables) "
   ]
  },
  {
   "cell_type": "code",
   "execution_count": 140,
   "id": "c7b6055a-24ca-43c4-94f4-13f24b85d1ca",
   "metadata": {},
   "outputs": [
    {
     "name": "stdout",
     "output_type": "stream",
     "text": [
      "50\n"
     ]
    }
   ],
   "source": [
    "   import json\n",
    "Inventory = '{\"item1\": 50, \"item2\": 30, \"item3\": 100}'\n",
    "expression = \"item1 if item1 > 40 else item2\"\n",
    "def inventory_management(Inventory,expression):\n",
    "    formatted_data=json.loads(Inventory)\n",
    "    print(eval(expression,{},formatted_data))\n",
    "inventory_management(Inventory,expression)"
   ]
  },
  {
   "cell_type": "code",
   "execution_count": null,
   "id": "b066f453-1f32-49e9-ac38-5e389816ca43",
   "metadata": {},
   "outputs": [],
   "source": [
    "\n"
   ]
  },
  {
   "cell_type": "code",
   "execution_count": 157,
   "id": "a69e0fb9-d7c4-4886-b1ee-31a77e1ceb3d",
   "metadata": {},
   "outputs": [
    {
     "name": "stdout",
     "output_type": "stream",
     "text": [
      "[{'name': 'apple', 'price': 27.0}, {'name': 'banana', 'price': 18.0}, {'name': 'cherry', 'price': 45.0}]\n"
     ]
    }
   ],
   "source": [
    "\n",
    "Fruits_data= '''[\n",
    "    {\"name\": \"apple\", \"price\": 30},\n",
    "    {\"name\": \"banana\", \"price\": 20},\n",
    "    {\"name\": \"cherry\", \"price\": 50}\n",
    "]'''\n",
    "Formatted_data=eval(Fruits_data)\n",
    "expression = \"list(map(lambda x: {'name': x['name'], 'price': round(x['price'] * 0.9, 2)}, data))\"\n",
    "\n",
    "print(eval(expression))"
   ]
  },
  {
   "cell_type": "code",
   "execution_count": 159,
   "id": "bc9500ba-80e2-4568-92a2-42d6607480b2",
   "metadata": {},
   "outputs": [
    {
     "name": "stdout",
     "output_type": "stream",
     "text": [
      "Engine Started!\n",
      "Engine started with a roar!\n"
     ]
    }
   ],
   "source": [
    "class Car:\n",
    "    def Start_engine(self):\n",
    "        print(\"Engine Started!\")\n",
    "car=Car()\n",
    "car.Start_engine()\n",
    "def ignition():\n",
    "    print(\"Engine started with a roar!\")\n",
    "Car.Start_engine=ignition()       \n",
    "Car.Start_engine"
   ]
  },
  {
   "cell_type": "code",
   "execution_count": null,
   "id": "a16d5a9f-b0a3-4b50-9967-da94af59ab28",
   "metadata": {},
   "outputs": [],
   "source": [
    "\n"
   ]
  }
 ],
 "metadata": {
  "kernelspec": {
   "display_name": "Python 3 (ipykernel)",
   "language": "python",
   "name": "python3"
  },
  "language_info": {
   "codemirror_mode": {
    "name": "ipython",
    "version": 3
   },
   "file_extension": ".py",
   "mimetype": "text/x-python",
   "name": "python",
   "nbconvert_exporter": "python",
   "pygments_lexer": "ipython3",
   "version": "3.12.4"
  }
 },
 "nbformat": 4,
 "nbformat_minor": 5
}
